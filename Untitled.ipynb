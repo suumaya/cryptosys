{
 "cells": [
  {
   "cell_type": "code",
   "execution_count": 3,
   "metadata": {},
   "outputs": [],
   "source": [
    "frequent_english_letters = {\n",
    "    'A':8.34 ,\n",
    "    'B':1.54 ,\n",
    "    'C':2.73,\n",
    "    'D':4.14,\n",
    "    'E':12.60,\n",
    "    'F':2.03,\n",
    "    'G':1.92,\n",
    "    'H':6.11,\n",
    "    'I':6.71,\n",
    "    'J':0.23,\n",
    "    'K':0.87,\n",
    "    'L':4.24,\n",
    "    'M':2.53,\n",
    "    'N':6.80,\n",
    "    'O':7.70,\n",
    "    'P':1.66,\n",
    "    'Q':0.09,\n",
    "    'R':5.68,\n",
    "    'S':6.11,\n",
    "    'T':9.37,\n",
    "    'U':2.85,\n",
    "    'V':1.06,\n",
    "    'W':2.34,\n",
    "    'X':0.20,\n",
    "    'Y':2.04,\n",
    "    'Z':0.06}"
   ]
  },
  {
   "cell_type": "code",
   "execution_count": 25,
   "metadata": {},
   "outputs": [],
   "source": [
    "import numpy as np\n",
    "array = np.array([])\n",
    "values = frequent_english_letters.values()"
   ]
  },
  {
   "cell_type": "code",
   "execution_count": 34,
   "metadata": {},
   "outputs": [],
   "source": [
    "i =0"
   ]
  },
  {
   "cell_type": "code",
   "execution_count": 46,
   "metadata": {},
   "outputs": [
    {
     "data": {
      "text/plain": [
       "array([], dtype=float64)"
      ]
     },
     "execution_count": 46,
     "metadata": {},
     "output_type": "execute_result"
    }
   ],
   "source": [
    "array = np.array([])\n",
    "array"
   ]
  },
  {
   "cell_type": "code",
   "execution_count": 43,
   "metadata": {},
   "outputs": [
    {
     "name": "stdout",
     "output_type": "stream",
     "text": [
      "8.34 A\n",
      "1.54 B\n",
      "2.73 C\n",
      "4.14 D\n",
      "12.6 E\n",
      "2.03 F\n",
      "1.92 G\n",
      "6.11 H\n",
      "6.71 I\n",
      "0.23 J\n",
      "0.87 K\n",
      "4.24 L\n",
      "2.53 M\n",
      "6.8 N\n",
      "7.7 O\n",
      "1.66 P\n",
      "0.09 Q\n",
      "5.68 R\n",
      "6.11 S\n",
      "9.37 T\n",
      "2.85 U\n",
      "1.06 V\n",
      "2.34 W\n",
      "0.2 X\n",
      "2.04 Y\n",
      "0.06 Z\n"
     ]
    }
   ],
   "source": [
    "for k,v in frequent_english_letters.items():\n",
    "  array.= frequent_english_letters[k]\n"
   ]
  },
  {
   "cell_type": "code",
   "execution_count": null,
   "metadata": {},
   "outputs": [],
   "source": []
  }
 ],
 "metadata": {
  "kernelspec": {
   "display_name": "Python 3",
   "language": "python",
   "name": "python3"
  },
  "language_info": {
   "codemirror_mode": {
    "name": "ipython",
    "version": 3
   },
   "file_extension": ".py",
   "mimetype": "text/x-python",
   "name": "python",
   "nbconvert_exporter": "python",
   "pygments_lexer": "ipython3",
   "version": "3.8.3"
  }
 },
 "nbformat": 4,
 "nbformat_minor": 4
}
